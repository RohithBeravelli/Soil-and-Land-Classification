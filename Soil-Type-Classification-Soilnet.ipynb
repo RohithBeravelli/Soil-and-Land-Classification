{
 "cells": [
  {
   "cell_type": "markdown",
   "metadata": {
    "papermill": {
     "duration": 0.013176,
     "end_time": "2020-09-29T17:10:17.787528",
     "exception": false,
     "start_time": "2020-09-29T17:10:17.774352",
     "status": "completed"
    },
    "tags": []
   },
   "source": [
    "![](https://wallpaperaccess.com/full/803470.jpg)"
   ]
  },
  {
   "cell_type": "markdown",
   "metadata": {
    "papermill": {
     "duration": 0.011979,
     "end_time": "2020-09-29T17:10:17.812482",
     "exception": false,
     "start_time": "2020-09-29T17:10:17.800503",
     "status": "completed"
    },
    "tags": []
   },
   "source": [
    "# Soil-Type-Classification for Crops Suggestion 🌳🌲🎄🎋🌴\n",
    "<br>Problem Statement: Classifying the type of the Soil from Input Image.\n",
    "# Model deployed as Web-Application API at:🎯🔗📳  <br>\n",
    "https://soilnet.herokuapp.com/\n",
    "\n",
    "# GitHub Repo <br>\n",
    "https://github.com/OMIII1997/Soil-Type-Classification \n",
    "\n",
    "# Dataset available at: 📚📓🗞💾 <br>\n",
    "https://www.kaggle.com/omkargurav/soil-classification-image-data\n",
    "<br>\n",
    "\n",
    "\n",
    "For this project a deep learning model is trained with 903 images of four different types soil. \"Alluvial\", \"Black\", \"Clay\" , \"Red\". All images are collected from Google Search Engine  and crafted and filtered. \n",
    "<br>\n",
    "\n",
    "Based on the type of the Soil Crops will be suggested. Model is deployed on Heroku Platform\n",
    "\n",
    "# Acknoledgement: 🎓💡🏷🔖📌  <br>\n",
    "I am expressing my gratitude towards Sir Krish Naik for his super clear explanation about Neural Network in\n",
    " Deep Learning Playlist and Model Deployment Tutorial on YouTube.\n",
    "\n",
    "I am also thankful to Sir Akash Zade for his model deployment explanation at AI in Agri Playlist.\n",
    "\n",
    "\n",
    "# Click on Below Link for Project Demo: 😍👀🔍📺📡 <br>\n",
    "https://youtu.be/gnKmbgbPRJA\n",
    "\n",
    "# Sample:🖥🖨✔🖼📷 <br>\n",
    "![Image](https://soilnet.herokuapp.com/static/css/images/Clay_2.jpg)"
   ]
  },
  {
   "cell_type": "code",
   "execution_count": 20,
   "metadata": {
    "_cell_guid": "b1076dfc-b9ad-4769-8c92-a6c4dae69d19",
    "_uuid": "8f2839f25d086af736a60e9eeb907d3b93b6e0e5",
    "execution": {
     "iopub.execute_input": "2020-09-29T17:10:17.860416Z",
     "iopub.status.busy": "2020-09-29T17:10:17.850028Z",
     "iopub.status.idle": "2020-09-29T17:11:25.801525Z",
     "shell.execute_reply": "2020-09-29T17:11:25.800871Z"
    },
    "papermill": {
     "duration": 67.977252,
     "end_time": "2020-09-29T17:11:25.801661",
     "exception": false,
     "start_time": "2020-09-29T17:10:17.824409",
     "status": "completed"
    },
    "tags": []
   },
   "outputs": [],
   "source": [
    "import numpy as np\n",
    "import pandas as pd\n",
    "import matplotlib.pyplot as plt\n",
    "#import skimage.io\n",
    "import tensorflow \n",
    "import os\n",
    "import glob\n",
    "import tqdm\n",
    "\n",
    "from tqdm import tqdm \n",
    "\n",
    "from skimage.io import imread, imshow\n",
    "from skimage.transform import resize\n",
    "import tensorflow as tf\n",
    "from tensorflow.keras.preprocessing.image import ImageDataGenerator\n",
    "from tensorflow.keras.models import Sequential\n",
    "from tensorflow.keras.layers import Activation,InputLayer, Conv2D, BatchNormalization, MaxPool2D, Dropout, Flatten, Dense\n",
    "from tensorflow.keras.callbacks import EarlyStopping, ModelCheckpoint, ReduceLROnPlateau\n",
    "from tensorflow.keras.layers import Conv2D, MaxPooling2D\n",
    "\n",
    "%matplotlib inline "
   ]
  },
  {
   "cell_type": "code",
   "execution_count": 21,
   "metadata": {
    "_cell_guid": "79c7e3d0-c299-4dcb-8224-4455121ee9b0",
    "_uuid": "d629ff2d2480ee46fbb7e2d37f6b5fab8052498a",
    "execution": {
     "iopub.execute_input": "2020-09-29T17:11:25.960434Z",
     "iopub.status.busy": "2020-09-29T17:11:25.959592Z",
     "iopub.status.idle": "2020-09-29T17:11:25.965117Z",
     "shell.execute_reply": "2020-09-29T17:11:25.965741Z"
    },
    "papermill": {
     "duration": 0.089552,
     "end_time": "2020-09-29T17:11:25.965908",
     "exception": false,
     "start_time": "2020-09-29T17:11:25.876356",
     "status": "completed"
    },
    "tags": []
   },
   "outputs": [
    {
     "name": "stdout",
     "output_type": "stream",
     "text": [
      "Tensorflow version:  2.0.0\n"
     ]
    }
   ],
   "source": [
    "print(\"Tensorflow version: \",tf.__version__)"
   ]
  },
  {
   "cell_type": "markdown",
   "metadata": {
    "papermill": {
     "duration": 0.074112,
     "end_time": "2020-09-29T17:11:26.116897",
     "exception": false,
     "start_time": "2020-09-29T17:11:26.042785",
     "status": "completed"
    },
    "tags": []
   },
   "source": [
    "# **Creating class for Telegram Bot Message Updates along with Graph**\n",
    "\n",
    "For complete guidanc and example of making Telegram bot visit here:<br>\n",
    "https://github.com/OMIII1997/Telegram-Bot-for-Model-Training-Updates <br>\n",
    "\n",
    "Get access_token from Telegram app: \n",
    "* Open Telegram mobile app \n",
    "* Search for \"BotFather\" \n",
    "* Send \"/start\"\n",
    "* After reply from BotFather send \"/newbot\"\n",
    "* Give name to your Bot Eg: Example_Bot\n",
    "* Give username to your Bot Eg: My_Example_bot *Note: User name must end with '_bot'* \n",
    "* Done...Congratulations You have crated your own Telegram bot. Now you will get Token to access the HTTP API. Copy that Token Key."
   ]
  },
  {
   "cell_type": "code",
   "execution_count": 22,
   "metadata": {
    "execution": {
     "iopub.execute_input": "2020-09-29T17:11:26.299907Z",
     "iopub.status.busy": "2020-09-29T17:11:26.298934Z",
     "iopub.status.idle": "2020-09-29T17:11:26.301406Z",
     "shell.execute_reply": "2020-09-29T17:11:26.302009Z"
    },
    "papermill": {
     "duration": 0.109217,
     "end_time": "2020-09-29T17:11:26.302167",
     "exception": false,
     "start_time": "2020-09-29T17:11:26.192950",
     "status": "completed"
    },
    "tags": []
   },
   "outputs": [],
   "source": [
    "# Training Data\n",
    "\n",
    "alluvial_soil = os.listdir('Soil_Dataset/Train/Alluvial_Soil/')\n",
    "black_soil    = os.listdir('Soil_Dataset/Train/Black_Soil/')\n",
    "clay_soil     = os.listdir('Soil_Dataset/Train/Clay_Soil/')\n",
    "red_soil      = os.listdir('Soil_Dataset/Train/Red_Soil/')"
   ]
  },
  {
   "cell_type": "code",
   "execution_count": 23,
   "metadata": {
    "execution": {
     "iopub.execute_input": "2020-09-29T17:11:26.464215Z",
     "iopub.status.busy": "2020-09-29T17:11:26.463241Z",
     "iopub.status.idle": "2020-09-29T17:11:26.466428Z",
     "shell.execute_reply": "2020-09-29T17:11:26.465925Z"
    },
    "papermill": {
     "duration": 0.084621,
     "end_time": "2020-09-29T17:11:26.466535",
     "exception": false,
     "start_time": "2020-09-29T17:11:26.381914",
     "status": "completed"
    },
    "tags": []
   },
   "outputs": [],
   "source": [
    "\n",
    "train_dir = 'Soil_Dataset/Train'\n",
    "test_dir = 'Soil_Dataset/Test'\n",
    "\n",
    "image_size = 224"
   ]
  },
  {
   "cell_type": "code",
   "execution_count": 24,
   "metadata": {
    "execution": {
     "iopub.execute_input": "2020-09-29T17:11:26.626716Z",
     "iopub.status.busy": "2020-09-29T17:11:26.626063Z",
     "iopub.status.idle": "2020-09-29T17:11:26.745847Z",
     "shell.execute_reply": "2020-09-29T17:11:26.745284Z"
    },
    "papermill": {
     "duration": 0.204086,
     "end_time": "2020-09-29T17:11:26.745959",
     "exception": false,
     "start_time": "2020-09-29T17:11:26.541873",
     "status": "completed"
    },
    "tags": []
   },
   "outputs": [
    {
     "name": "stdout",
     "output_type": "stream",
     "text": [
      "Found 715 images belonging to 4 classes.\n"
     ]
    }
   ],
   "source": [
    "batch_size = 32\n",
    "\n",
    "train_datagen = ImageDataGenerator(rescale = 1./255,\n",
    "                            rotation_range=45,\n",
    "                            zoom_range=0.40,\n",
    "                            width_shift_range=0.2,\n",
    "                            height_shift_range=0.2,\n",
    "                            shear_range=0.15,\n",
    "                            horizontal_flip=True,\n",
    "                            vertical_flip= True,\n",
    "                            fill_mode=\"nearest\")\n",
    "\n",
    "train_data = train_datagen.flow_from_directory(train_dir,\n",
    "                                              target_size=(150,150),\n",
    "                                              batch_size=32,\n",
    "                                              class_mode=\"categorical\")\n"
   ]
  },
  {
   "cell_type": "code",
   "execution_count": 25,
   "metadata": {
    "execution": {
     "iopub.execute_input": "2020-09-29T17:11:26.924273Z",
     "iopub.status.busy": "2020-09-29T17:11:26.922329Z",
     "iopub.status.idle": "2020-09-29T17:11:27.037434Z",
     "shell.execute_reply": "2020-09-29T17:11:27.037904Z"
    },
    "papermill": {
     "duration": 0.204345,
     "end_time": "2020-09-29T17:11:27.038044",
     "exception": false,
     "start_time": "2020-09-29T17:11:26.833699",
     "status": "completed"
    },
    "tags": []
   },
   "outputs": [
    {
     "name": "stdout",
     "output_type": "stream",
     "text": [
      "Found 188 images belonging to 4 classes.\n"
     ]
    }
   ],
   "source": [
    "test_datagen = ImageDataGenerator(rescale = 1./255)\n",
    "\n",
    "test_data = test_datagen.flow_from_directory(test_dir,\n",
    "                                            target_size=(150,150),\n",
    "                                            batch_size=32,\n",
    "                                            class_mode=\"categorical\")"
   ]
  },
  {
   "cell_type": "code",
   "execution_count": 31,
   "metadata": {
    "execution": {
     "iopub.execute_input": "2020-09-29T17:11:27.211649Z",
     "iopub.status.busy": "2020-09-29T17:11:27.210629Z",
     "iopub.status.idle": "2020-09-29T17:11:28.303223Z",
     "shell.execute_reply": "2020-09-29T17:11:28.303723Z"
    },
    "papermill": {
     "duration": 1.189673,
     "end_time": "2020-09-29T17:11:28.303898",
     "exception": false,
     "start_time": "2020-09-29T17:11:27.114225",
     "status": "completed"
    },
    "tags": []
   },
   "outputs": [
    {
     "name": "stdout",
     "output_type": "stream",
     "text": [
      "Model: \"SoilNet\"\n",
      "_________________________________________________________________\n",
      "Layer (type)                 Output Shape              Param #   \n",
      "=================================================================\n",
      "conv2d_7 (Conv2D)            (None, 150, 150, 32)      896       \n",
      "_________________________________________________________________\n",
      "activation_7 (Activation)    (None, 150, 150, 32)      0         \n",
      "_________________________________________________________________\n",
      "max_pooling2d_3 (MaxPooling2 (None, 50, 50, 32)        0         \n",
      "_________________________________________________________________\n",
      "dropout_4 (Dropout)          (None, 50, 50, 32)        0         \n",
      "_________________________________________________________________\n",
      "conv2d_8 (Conv2D)            (None, 50, 50, 64)        32832     \n",
      "_________________________________________________________________\n",
      "activation_8 (Activation)    (None, 50, 50, 64)        0         \n",
      "_________________________________________________________________\n",
      "conv2d_9 (Conv2D)            (None, 50, 50, 64)        65600     \n",
      "_________________________________________________________________\n",
      "activation_9 (Activation)    (None, 50, 50, 64)        0         \n",
      "_________________________________________________________________\n",
      "max_pooling2d_4 (MaxPooling2 (None, 25, 25, 64)        0         \n",
      "_________________________________________________________________\n",
      "dropout_5 (Dropout)          (None, 25, 25, 64)        0         \n",
      "_________________________________________________________________\n",
      "conv2d_10 (Conv2D)           (None, 25, 25, 128)       131200    \n",
      "_________________________________________________________________\n",
      "activation_10 (Activation)   (None, 25, 25, 128)       0         \n",
      "_________________________________________________________________\n",
      "conv2d_11 (Conv2D)           (None, 25, 25, 128)       262272    \n",
      "_________________________________________________________________\n",
      "activation_11 (Activation)   (None, 25, 25, 128)       0         \n",
      "_________________________________________________________________\n",
      "max_pooling2d_5 (MaxPooling2 (None, 12, 12, 128)       0         \n",
      "_________________________________________________________________\n",
      "dropout_6 (Dropout)          (None, 12, 12, 128)       0         \n",
      "_________________________________________________________________\n",
      "flatten_1 (Flatten)          (None, 18432)             0         \n",
      "_________________________________________________________________\n",
      "dense_2 (Dense)              (None, 1024)              18875392  \n",
      "_________________________________________________________________\n",
      "batch_normalization_1 (Batch (None, 1024)              4096      \n",
      "_________________________________________________________________\n",
      "dropout_7 (Dropout)          (None, 1024)              0         \n",
      "_________________________________________________________________\n",
      "dense_3 (Dense)              (None, 4)                 4100      \n",
      "_________________________________________________________________\n",
      "activation_12 (Activation)   (None, 4)                 0         \n",
      "=================================================================\n",
      "Total params: 19,376,388\n",
      "Trainable params: 19,374,340\n",
      "Non-trainable params: 2,048\n",
      "_________________________________________________________________\n"
     ]
    }
   ],
   "source": [
    "\n",
    "#=================================================================\n",
    "chanDim = 1\n",
    "model = Sequential(name=\"SoilNet\")\n",
    "model.add(Conv2D(32, (3, 3), padding=\"same\",input_shape=(150,150,3)))\n",
    "model.add(Activation(\"relu\"))\n",
    "\n",
    "model.add(MaxPooling2D(pool_size=(3, 3)))\n",
    "model.add(Dropout(0.25))\n",
    "\n",
    "model.add(Conv2D(64, (4, 4), padding=\"same\"))\n",
    "model.add(Activation(\"relu\"))\n",
    "\n",
    "model.add(Conv2D(64, (4, 4), padding=\"same\"))\n",
    "model.add(Activation(\"relu\"))\n",
    "model.add(MaxPooling2D(pool_size=(2, 2)))\n",
    "model.add(Dropout(0.25))\n",
    "\n",
    "model.add(Conv2D(128, (4, 4), padding=\"same\"))\n",
    "model.add(Activation(\"relu\"))\n",
    "\n",
    "model.add(Conv2D(128, (4, 4), padding=\"same\"))\n",
    "model.add(Activation(\"relu\"))\n",
    "model.add(MaxPooling2D(pool_size=(2, 2)))\n",
    "model.add(Dropout(0.25))\n",
    "\n",
    "model.add(Flatten())\n",
    "model.add(Dense(1024))\n",
    "model.add(BatchNormalization())\n",
    "model.add(Dropout(0.5))\n",
    "model.add(Dense(4))\n",
    "model.add(Activation(\"softmax\"))\n",
    "\n",
    "\n",
    "model.compile(optimizer=\"adam\",loss=\"categorical_crossentropy\",metrics=[\"accuracy\"])\n",
    "reduction_lr = ReduceLROnPlateau(monitor = \"val_accuracy\",patience = 2 ,verbose = 1, factor = 0.2, min_lr = 0.00001)\n",
    "model.summary()\n",
    "#plot_model(model,show_shapes=True)\n"
   ]
  },
  {
   "cell_type": "code",
   "execution_count": 32,
   "metadata": {
    "execution": {
     "iopub.execute_input": "2020-09-29T17:11:28.500252Z",
     "iopub.status.busy": "2020-09-29T17:11:28.499356Z",
     "iopub.status.idle": "2020-09-29T17:11:28.502531Z",
     "shell.execute_reply": "2020-09-29T17:11:28.501987Z"
    },
    "papermill": {
     "duration": 0.119525,
     "end_time": "2020-09-29T17:11:28.502632",
     "exception": false,
     "start_time": "2020-09-29T17:11:28.383107",
     "status": "completed"
    },
    "tags": []
   },
   "outputs": [],
   "source": [
    "callback_list = [reduction_lr]"
   ]
  },
  {
   "cell_type": "code",
   "execution_count": 33,
   "metadata": {
    "execution": {
     "iopub.execute_input": "2020-09-29T17:11:28.721691Z",
     "iopub.status.busy": "2020-09-29T17:11:28.720379Z",
     "iopub.status.idle": "2020-09-29T17:50:38.344386Z",
     "shell.execute_reply": "2020-09-29T17:50:38.343457Z"
    },
    "papermill": {
     "duration": 2349.761742,
     "end_time": "2020-09-29T17:50:38.344572",
     "exception": false,
     "start_time": "2020-09-29T17:11:28.582830",
     "status": "completed"
    },
    "tags": []
   },
   "outputs": [
    {
     "name": "stdout",
     "output_type": "stream",
     "text": [
      "Epoch 1/20\n",
      "30/30 [==============================] - 48s 2s/step - loss: 2.3556 - accuracy: 0.6580 - val_loss: 7.3395 - val_accuracy: 0.4947\n",
      "Epoch 2/20\n",
      "30/30 [==============================] - 49s 2s/step - loss: 0.6451 - accuracy: 0.7990 - val_loss: 3.5056 - val_accuracy: 0.5053\n",
      "Epoch 3/20\n",
      "30/30 [==============================] - 48s 2s/step - loss: 0.5378 - accuracy: 0.8094 - val_loss: 2.8832 - val_accuracy: 0.5053\n",
      "Epoch 4/20\n",
      "30/30 [==============================] - 48s 2s/step - loss: 0.5703 - accuracy: 0.8094 - val_loss: 0.8009 - val_accuracy: 0.7500\n",
      "Epoch 5/20\n",
      "30/30 [==============================] - 47s 2s/step - loss: 0.3893 - accuracy: 0.8519 - val_loss: 3.0233 - val_accuracy: 0.4947\n",
      "Epoch 6/20\n",
      "29/30 [============================>.] - ETA: 1s - loss: 0.3804 - accuracy: 0.8545\n",
      "Epoch 00006: ReduceLROnPlateau reducing learning rate to 0.00020000000949949026.\n",
      "30/30 [==============================] - 49s 2s/step - loss: 0.3742 - accuracy: 0.8562 - val_loss: 1.3396 - val_accuracy: 0.6702\n",
      "Epoch 7/20\n",
      "30/30 [==============================] - 47s 2s/step - loss: 0.2772 - accuracy: 0.9041 - val_loss: 0.9543 - val_accuracy: 0.7021\n",
      "Epoch 8/20\n",
      "30/30 [==============================] - 48s 2s/step - loss: 0.2657 - accuracy: 0.8878 - val_loss: 0.6937 - val_accuracy: 0.7660\n",
      "Epoch 9/20\n",
      "30/30 [==============================] - 51s 2s/step - loss: 0.2698 - accuracy: 0.9020 - val_loss: 0.4180 - val_accuracy: 0.8723\n",
      "Epoch 10/20\n",
      "30/30 [==============================] - 51s 2s/step - loss: 0.2402 - accuracy: 0.8999 - val_loss: 0.5844 - val_accuracy: 0.7872\n",
      "Epoch 11/20\n",
      "29/30 [============================>.] - ETA: 1s - loss: 0.2359 - accuracy: 0.9052\n",
      "Epoch 00011: ReduceLROnPlateau reducing learning rate to 4.0000001899898055e-05.\n",
      "30/30 [==============================] - 49s 2s/step - loss: 0.2327 - accuracy: 0.9063 - val_loss: 0.3741 - val_accuracy: 0.8723\n",
      "Epoch 12/20\n",
      "30/30 [==============================] - 49s 2s/step - loss: 0.2320 - accuracy: 0.9194 - val_loss: 0.4361 - val_accuracy: 0.8617\n",
      "Epoch 13/20\n",
      "29/30 [============================>.] - ETA: 1s - loss: 0.2555 - accuracy: 0.9063\n",
      "Epoch 00013: ReduceLROnPlateau reducing learning rate to 1e-05.\n",
      "30/30 [==============================] - 51s 2s/step - loss: 0.2561 - accuracy: 0.9052 - val_loss: 0.4279 - val_accuracy: 0.8670\n",
      "Epoch 14/20\n",
      "30/30 [==============================] - 47s 2s/step - loss: 0.2346 - accuracy: 0.9085 - val_loss: 0.3920 - val_accuracy: 0.8617\n",
      "Epoch 15/20\n",
      "30/30 [==============================] - 48s 2s/step - loss: 0.2543 - accuracy: 0.9260 - val_loss: 0.3549 - val_accuracy: 0.8723\n",
      "Epoch 16/20\n",
      "30/30 [==============================] - 46s 2s/step - loss: 0.2565 - accuracy: 0.9150 - val_loss: 0.3609 - val_accuracy: 0.8723\n",
      "Epoch 17/20\n",
      "30/30 [==============================] - 47s 2s/step - loss: 0.2339 - accuracy: 0.9127 - val_loss: 0.3406 - val_accuracy: 0.8777\n",
      "Epoch 18/20\n",
      "30/30 [==============================] - 48s 2s/step - loss: 0.2697 - accuracy: 0.9031 - val_loss: 0.3566 - val_accuracy: 0.8777\n",
      "Epoch 19/20\n",
      "30/30 [==============================] - 61s 2s/step - loss: 0.2178 - accuracy: 0.9129 - val_loss: 0.3619 - val_accuracy: 0.8830\n",
      "Epoch 20/20\n",
      "30/30 [==============================] - 49s 2s/step - loss: 0.2311 - accuracy: 0.9169 - val_loss: 0.3572 - val_accuracy: 0.8777\n"
     ]
    }
   ],
   "source": [
    "#bot_callback = botCallback(access_token)\n",
    "#plotter = Plotter(access_token)\n",
    "#callback_list = [bot_callback,plotter] callbacks=callback_list\n",
    "#start = time.time()\n",
    "\n",
    "history = model.fit_generator(train_data,\n",
    "                    steps_per_epoch = 30,\n",
    "                    validation_data = test_data,\n",
    "                    validation_steps = 30,\n",
    "                    epochs=20,\n",
    "                    callbacks = callback_list)\n",
    "#end = time.time()\n",
    "#print(\"Total train time: \",(end-start)/60,\" mins\")"
   ]
  },
  {
   "cell_type": "code",
   "execution_count": 34,
   "metadata": {
    "execution": {
     "iopub.execute_input": "2020-09-29T17:50:38.975288Z",
     "iopub.status.busy": "2020-09-29T17:50:38.973867Z",
     "iopub.status.idle": "2020-09-29T17:50:39.416650Z",
     "shell.execute_reply": "2020-09-29T17:50:39.417236Z"
    },
    "papermill": {
     "duration": 0.76281,
     "end_time": "2020-09-29T17:50:39.417403",
     "exception": false,
     "start_time": "2020-09-29T17:50:38.654593",
     "status": "completed"
    },
    "tags": []
   },
   "outputs": [
    {
     "data": {
      "image/png": "[encoded data removed]",
      "text/plain": [
       "<Figure size 864x576 with 1 Axes>"
      ]
     },
     "metadata": {
      "needs_background": "light"
     },
     "output_type": "display_data"
    },
    {
     "data": {
      "image/png": "[encoded data removed]",
      "text/plain": [
       "<Figure size 864x576 with 1 Axes>"
      ]
     },
     "metadata": {
      "needs_background": "light"
     },
     "output_type": "display_data"
    }
   ],
   "source": [
    "def plot_graph(history,string):\n",
    "    plt.figure(figsize=(12,8))\n",
    "    plt.plot(history.history[string],label=str(string))\n",
    "    plt.plot(history.history[\"val_\"+str(string)],label=\"val_\"+str(string))\n",
    "    plt.xlabel(\"Epochs\")\n",
    "    plt.ylabel(str(string))\n",
    "    plt.legend()\n",
    "    plt.show()\n",
    "plot_graph(history,\"accuracy\")\n",
    "plot_graph(history,\"loss\")"
   ]
  },
  {
   "cell_type": "code",
   "execution_count": 35,
   "metadata": {
    "execution": {
     "iopub.execute_input": "2020-09-29T17:50:40.091321Z",
     "iopub.status.busy": "2020-09-29T17:50:40.090260Z",
     "iopub.status.idle": "2020-09-29T17:50:40.403052Z",
     "shell.execute_reply": "2020-09-29T17:50:40.402481Z"
    },
    "papermill": {
     "duration": 0.656959,
     "end_time": "2020-09-29T17:50:40.403228",
     "exception": false,
     "start_time": "2020-09-29T17:50:39.746269",
     "status": "completed"
    },
    "tags": []
   },
   "outputs": [],
   "source": [
    "model.save(\"SoilNet.h5\")"
   ]
  },
  {
   "cell_type": "code",
   "execution_count": 36,
   "metadata": {
    "execution": {
     "iopub.execute_input": "2020-09-29T17:50:41.048859Z",
     "iopub.status.busy": "2020-09-29T17:50:41.048188Z",
     "iopub.status.idle": "2020-09-29T17:50:41.055077Z",
     "shell.execute_reply": "2020-09-29T17:50:41.054485Z"
    },
    "papermill": {
     "duration": 0.3298,
     "end_time": "2020-09-29T17:50:41.055201",
     "exception": false,
     "start_time": "2020-09-29T17:50:40.725401",
     "status": "completed"
    },
    "tags": []
   },
   "outputs": [
    {
     "data": {
      "text/html": [
       "<a href='SoilNet.h5' target='_blank'>SoilNet.h5</a><br>"
      ],
      "text/plain": [
       "C:\\Users\\Mrida\\Documents\\Python\\Soil-Type-Classification-master\\SoilNet.h5"
      ]
     },
     "execution_count": 36,
     "metadata": {},
     "output_type": "execute_result"
    }
   ],
   "source": [
    "from IPython.display import FileLink\n",
    "FileLink('SoilNet.h5')\n"
   ]
  },
  {
   "cell_type": "code",
   "execution_count": null,
   "metadata": {
    "papermill": {
     "duration": 0.320658,
     "end_time": "2020-09-29T17:50:41.704291",
     "exception": false,
     "start_time": "2020-09-29T17:50:41.383633",
     "status": "completed"
    },
    "tags": []
   },
   "outputs": [],
   "source": []
  },
  {
   "cell_type": "code",
   "execution_count": null,
   "metadata": {
    "papermill": {
     "duration": 0.321807,
     "end_time": "2020-09-29T17:50:42.348843",
     "exception": false,
     "start_time": "2020-09-29T17:50:42.027036",
     "status": "completed"
    },
    "tags": []
   },
   "outputs": [],
   "source": []
  },
  {
   "cell_type": "code",
   "execution_count": null,
   "metadata": {
    "papermill": {
     "duration": 0.488903,
     "end_time": "2020-09-29T17:50:43.238464",
     "exception": false,
     "start_time": "2020-09-29T17:50:42.749561",
     "status": "completed"
    },
    "tags": []
   },
   "outputs": [],
   "source": []
  }
 ],
 "metadata": {
  "kernelspec": {
   "display_name": "Python 3",
   "language": "python",
   "name": "python3"
  },
  "language_info": {
   "codemirror_mode": {
    "name": "ipython",
    "version": 3
   },
   "file_extension": ".py",
   "mimetype": "text/x-python",
   "name": "python",
   "nbconvert_exporter": "python",
   "pygments_lexer": "ipython3",
   "version": "3.7.9"
  },
  "papermill": {
   "duration": 2431.440235,
   "end_time": "2020-09-29T17:50:44.814809",
   "environment_variables": {},
   "exception": null,
   "input_path": "__notebook__.ipynb",
   "output_path": "__notebook__.ipynb",
   "parameters": {},
   "start_time": "2020-09-29T17:10:13.374574",
   "version": "2.1.0"
  }
 },
 "nbformat": 4,
 "nbformat_minor": 4
}
